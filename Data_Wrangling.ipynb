{
 "cells": [
  {
   "cell_type": "code",
   "execution_count": 2,
   "id": "9305bc8f-63a5-4ece-b707-5e6850e36351",
   "metadata": {},
   "outputs": [],
   "source": [
    "# Pandas is a software library written for the Python programming language for data manipulation and analysis.\n",
    "import pandas as pd\n",
    "#NumPy is a library for the Python programming language, adding support for large, multi-dimensional arrays and matrices, along with a large collection of high-level mathematical functions to operate on these arrays\n",
    "import numpy as np"
   ]
  },
  {
   "cell_type": "code",
   "execution_count": 21,
   "id": "a744bd96-7ea6-44c1-ac2d-bb373fdc29a5",
   "metadata": {},
   "outputs": [
    {
     "data": {
      "text/html": [
       "<div>\n",
       "<style scoped>\n",
       "    .dataframe tbody tr th:only-of-type {\n",
       "        vertical-align: middle;\n",
       "    }\n",
       "\n",
       "    .dataframe tbody tr th {\n",
       "        vertical-align: top;\n",
       "    }\n",
       "\n",
       "    .dataframe thead th {\n",
       "        text-align: right;\n",
       "    }\n",
       "</style>\n",
       "<table border=\"1\" class=\"dataframe\">\n",
       "  <thead>\n",
       "    <tr style=\"text-align: right;\">\n",
       "      <th></th>\n",
       "      <th>Payload</th>\n",
       "      <th>Orbit</th>\n",
       "      <th>Customer</th>\n",
       "      <th>Flight_No.</th>\n",
       "      <th>Date</th>\n",
       "      <th>Time</th>\n",
       "      <th>Version_Booster</th>\n",
       "      <th>Launch_site</th>\n",
       "      <th>Payload_mass</th>\n",
       "      <th>Launch_outcome</th>\n",
       "      <th>Booster_landing</th>\n",
       "    </tr>\n",
       "  </thead>\n",
       "  <tbody>\n",
       "    <tr>\n",
       "      <th>0</th>\n",
       "      <td>Starlink</td>\n",
       "      <td>LEO</td>\n",
       "      <td>SpaceX</td>\n",
       "      <td>78</td>\n",
       "      <td>7 January 2020</td>\n",
       "      <td>02:19:21</td>\n",
       "      <td>F9 B5</td>\n",
       "      <td>CCSFS</td>\n",
       "      <td>15,600 kg</td>\n",
       "      <td>Success\\n</td>\n",
       "      <td>Success</td>\n",
       "    </tr>\n",
       "    <tr>\n",
       "      <th>1</th>\n",
       "      <td>Crew Dragon in-flight abort test</td>\n",
       "      <td>Sub-orbital</td>\n",
       "      <td>NASA</td>\n",
       "      <td>79</td>\n",
       "      <td>19 January 2020</td>\n",
       "      <td>15:30</td>\n",
       "      <td>F9 B5</td>\n",
       "      <td>KSC</td>\n",
       "      <td>12,050 kg</td>\n",
       "      <td>Success\\n</td>\n",
       "      <td>No attempt\\n</td>\n",
       "    </tr>\n",
       "    <tr>\n",
       "      <th>2</th>\n",
       "      <td>Starlink</td>\n",
       "      <td>LEO</td>\n",
       "      <td>SpaceX</td>\n",
       "      <td>80</td>\n",
       "      <td>29 January 2020</td>\n",
       "      <td>14:07</td>\n",
       "      <td>F9 B5</td>\n",
       "      <td>CCSFS</td>\n",
       "      <td>15,600 kg</td>\n",
       "      <td>Success\\n</td>\n",
       "      <td>Success</td>\n",
       "    </tr>\n",
       "    <tr>\n",
       "      <th>3</th>\n",
       "      <td>Starlink</td>\n",
       "      <td>LEO</td>\n",
       "      <td>SpaceX</td>\n",
       "      <td>81</td>\n",
       "      <td>17 February 2020</td>\n",
       "      <td>15:05</td>\n",
       "      <td>F9 B5</td>\n",
       "      <td>CCSFS</td>\n",
       "      <td>15,600 kg</td>\n",
       "      <td>Success\\n</td>\n",
       "      <td>Failure</td>\n",
       "    </tr>\n",
       "    <tr>\n",
       "      <th>4</th>\n",
       "      <td>SpaceX CRS-20</td>\n",
       "      <td>LEO</td>\n",
       "      <td>NASA</td>\n",
       "      <td>82</td>\n",
       "      <td>7 March 2020</td>\n",
       "      <td>04:50</td>\n",
       "      <td>F9 B5</td>\n",
       "      <td>CCSFS</td>\n",
       "      <td>1,977 kg</td>\n",
       "      <td>Success\\n</td>\n",
       "      <td>Success</td>\n",
       "    </tr>\n",
       "    <tr>\n",
       "      <th>5</th>\n",
       "      <td>Starlink</td>\n",
       "      <td>LEO</td>\n",
       "      <td>SpaceX</td>\n",
       "      <td>83</td>\n",
       "      <td>18 March 2020</td>\n",
       "      <td>12:16</td>\n",
       "      <td>F9 B5</td>\n",
       "      <td>KSC</td>\n",
       "      <td>15,600 kg</td>\n",
       "      <td>Success\\n</td>\n",
       "      <td>Failure</td>\n",
       "    </tr>\n",
       "    <tr>\n",
       "      <th>6</th>\n",
       "      <td>Starlink</td>\n",
       "      <td>LEO</td>\n",
       "      <td>SpaceX</td>\n",
       "      <td>84</td>\n",
       "      <td>22 April 2020</td>\n",
       "      <td>19:30</td>\n",
       "      <td>F9 B5</td>\n",
       "      <td>KSC</td>\n",
       "      <td>15,600 kg</td>\n",
       "      <td>Success\\n</td>\n",
       "      <td>Success</td>\n",
       "    </tr>\n",
       "    <tr>\n",
       "      <th>7</th>\n",
       "      <td>Crew Dragon Demo-2</td>\n",
       "      <td>LEO</td>\n",
       "      <td>NASA</td>\n",
       "      <td>85</td>\n",
       "      <td>30 May 2020</td>\n",
       "      <td>19:22</td>\n",
       "      <td>F9 B5B1058.1</td>\n",
       "      <td>KSC</td>\n",
       "      <td>12,530 kg</td>\n",
       "      <td>Success\\n</td>\n",
       "      <td>Success</td>\n",
       "    </tr>\n",
       "    <tr>\n",
       "      <th>8</th>\n",
       "      <td>Starlink</td>\n",
       "      <td>LEO</td>\n",
       "      <td>SpaceX</td>\n",
       "      <td>86</td>\n",
       "      <td>4 June 2020</td>\n",
       "      <td>01:25</td>\n",
       "      <td>F9 B5</td>\n",
       "      <td>CCSFS</td>\n",
       "      <td>15,600 kg</td>\n",
       "      <td>Success\\n</td>\n",
       "      <td>Success</td>\n",
       "    </tr>\n",
       "    <tr>\n",
       "      <th>9</th>\n",
       "      <td>Starlink</td>\n",
       "      <td>LEO</td>\n",
       "      <td>SpaceX</td>\n",
       "      <td>87</td>\n",
       "      <td>13 June 2020</td>\n",
       "      <td>09:21</td>\n",
       "      <td>F9 B5</td>\n",
       "      <td>CCSFS</td>\n",
       "      <td>15,410 kg</td>\n",
       "      <td>Success\\n</td>\n",
       "      <td>Success</td>\n",
       "    </tr>\n",
       "  </tbody>\n",
       "</table>\n",
       "</div>"
      ],
      "text/plain": [
       "                            Payload        Orbit Customer  Flight_No.  \\\n",
       "0                          Starlink          LEO   SpaceX          78   \n",
       "1  Crew Dragon in-flight abort test  Sub-orbital     NASA          79   \n",
       "2                          Starlink          LEO   SpaceX          80   \n",
       "3                          Starlink          LEO   SpaceX          81   \n",
       "4                     SpaceX CRS-20          LEO     NASA          82   \n",
       "5                          Starlink          LEO   SpaceX          83   \n",
       "6                          Starlink          LEO   SpaceX          84   \n",
       "7                Crew Dragon Demo-2          LEO     NASA          85   \n",
       "8                          Starlink          LEO   SpaceX          86   \n",
       "9                          Starlink          LEO   SpaceX          87   \n",
       "\n",
       "               Date      Time Version_Booster Launch_site Payload_mass  \\\n",
       "0    7 January 2020  02:19:21           F9 B5       CCSFS    15,600 kg   \n",
       "1   19 January 2020     15:30           F9 B5         KSC    12,050 kg   \n",
       "2   29 January 2020     14:07           F9 B5       CCSFS    15,600 kg   \n",
       "3  17 February 2020     15:05           F9 B5       CCSFS    15,600 kg   \n",
       "4      7 March 2020     04:50           F9 B5       CCSFS     1,977 kg   \n",
       "5     18 March 2020     12:16           F9 B5         KSC    15,600 kg   \n",
       "6     22 April 2020     19:30           F9 B5         KSC    15,600 kg   \n",
       "7       30 May 2020     19:22    F9 B5B1058.1         KSC    12,530 kg   \n",
       "8       4 June 2020     01:25           F9 B5       CCSFS    15,600 kg   \n",
       "9      13 June 2020     09:21           F9 B5       CCSFS    15,410 kg   \n",
       "\n",
       "  Launch_outcome Booster_landing  \n",
       "0      Success\\n         Success  \n",
       "1      Success\\n    No attempt\\n  \n",
       "2      Success\\n         Success  \n",
       "3      Success\\n         Failure  \n",
       "4      Success\\n         Success  \n",
       "5      Success\\n         Failure  \n",
       "6      Success\\n         Success  \n",
       "7      Success\\n         Success  \n",
       "8      Success\\n         Success  \n",
       "9      Success\\n         Success  "
      ]
     },
     "execution_count": 21,
     "metadata": {},
     "output_type": "execute_result"
    }
   ],
   "source": [
    "df=pd.read_csv(\"spacex_web_scraped_2024.csv\")\n",
    "df.head(10)"
   ]
  },
  {
   "cell_type": "code",
   "execution_count": 22,
   "id": "2f06c433-5094-4820-81fe-42ba3cbbc40f",
   "metadata": {},
   "outputs": [
    {
     "data": {
      "text/plain": [
       "(215, 11)"
      ]
     },
     "execution_count": 22,
     "metadata": {},
     "output_type": "execute_result"
    }
   ],
   "source": [
    "df.shape"
   ]
  },
  {
   "cell_type": "code",
   "execution_count": 23,
   "id": "63ca25fc-33fe-4779-b8b9-b8803b9bd35f",
   "metadata": {},
   "outputs": [
    {
     "data": {
      "text/plain": [
       "Payload            3.864734\n",
       "Orbit              0.467290\n",
       "Customer           0.000000\n",
       "Flight_No.         0.000000\n",
       "Date               0.000000\n",
       "Time               0.000000\n",
       "Version_Booster    0.000000\n",
       "Launch_site        0.000000\n",
       "Payload_mass       0.000000\n",
       "Launch_outcome     0.000000\n",
       "Booster_landing    0.000000\n",
       "dtype: float64"
      ]
     },
     "execution_count": 23,
     "metadata": {},
     "output_type": "execute_result"
    }
   ],
   "source": [
    "# let calculat the percentage of missing values in each column of df\n",
    "df.isnull().sum()/df.count()*100"
   ]
  },
  {
   "cell_type": "code",
   "execution_count": 24,
   "id": "f58f5247-0406-4b3d-8df1-3dd991fedd7c",
   "metadata": {},
   "outputs": [
    {
     "data": {
      "text/plain": [
       "Payload            object\n",
       "Orbit              object\n",
       "Customer           object\n",
       "Flight_No.          int64\n",
       "Date               object\n",
       "Time               object\n",
       "Version_Booster    object\n",
       "Launch_site        object\n",
       "Payload_mass       object\n",
       "Launch_outcome     object\n",
       "Booster_landing    object\n",
       "dtype: object"
      ]
     },
     "execution_count": 24,
     "metadata": {},
     "output_type": "execute_result"
    }
   ],
   "source": [
    "df.dtypes"
   ]
  },
  {
   "cell_type": "markdown",
   "id": "8d058baa-6a3d-46d1-b90f-c3e9cef6185e",
   "metadata": {},
   "source": [
    "#### Let's see which categorical variables can be converted into numerical variables"
   ]
  },
  {
   "cell_type": "code",
   "execution_count": 25,
   "id": "b30a2d73-3947-4283-8cdf-f98da399264c",
   "metadata": {},
   "outputs": [
    {
     "data": {
      "text/plain": [
       "Launch_site\n",
       "CCSFS    118\n",
       "KSC       49\n",
       "VSFB      48\n",
       "Name: count, dtype: int64"
      ]
     },
     "execution_count": 25,
     "metadata": {},
     "output_type": "execute_result"
    }
   ],
   "source": [
    "# Apply value_counts() on column Launch_site\n",
    "df.Launch_site.value_counts()"
   ]
  },
  {
   "cell_type": "code",
   "execution_count": 26,
   "id": "0477f8e7-4691-492e-8511-c576e66b6bc3",
   "metadata": {},
   "outputs": [
    {
     "data": {
      "text/plain": [
       "Orbit\n",
       "LEO                               159\n",
       "GTO                                20\n",
       "SSO                                20\n",
       "MEO                                 7\n",
       "Polar                               3\n",
       "Ballistic lunar transfer (BLT)      2\n",
       "Sub-orbital                         1\n",
       "Heliocentric                        1\n",
       "Retrograde                          1\n",
       "Name: count, dtype: int64"
      ]
     },
     "execution_count": 26,
     "metadata": {},
     "output_type": "execute_result"
    }
   ],
   "source": [
    "# Apply value_counts on Orbit column\n",
    "df.Orbit.value_counts()"
   ]
  },
  {
   "cell_type": "code",
   "execution_count": 27,
   "id": "0d106f4d-30e4-45f8-b898-eac798cbbbbd",
   "metadata": {},
   "outputs": [
    {
     "data": {
      "text/plain": [
       "Customer\n",
       "SpaceX                    181\n",
       "NASA                       17\n",
       "Various                     8\n",
       "U.S. Space Force            3\n",
       "NRO                         3\n",
       "Turksat                     2\n",
       "Republic of Korea Army      1\n",
       "Name: count, dtype: int64"
      ]
     },
     "execution_count": 27,
     "metadata": {},
     "output_type": "execute_result"
    }
   ],
   "source": [
    "# Apply value_counts on Customer column\n",
    "df.Customer.value_counts()"
   ]
  },
  {
   "cell_type": "code",
   "execution_count": 28,
   "id": "50ed218e-b07c-4ad7-bcf1-d957dc6c5423",
   "metadata": {},
   "outputs": [
    {
     "data": {
      "text/plain": [
       "Booster_landing\n",
       "Success         209\n",
       "No attempt\\n      3\n",
       "Failure           3\n",
       "Name: count, dtype: int64"
      ]
     },
     "execution_count": 28,
     "metadata": {},
     "output_type": "execute_result"
    }
   ],
   "source": [
    "# landing_outcomes = values on Outcome column\n",
    "landing_outcomes = df.Booster_landing.value_counts()\n",
    "landing_outcomes"
   ]
  },
  {
   "cell_type": "code",
   "execution_count": 29,
   "id": "961575b8-b497-4383-be80-52e5374061b8",
   "metadata": {},
   "outputs": [
    {
     "name": "stdout",
     "output_type": "stream",
     "text": [
      "0 Success\n",
      "1 No attempt\n",
      "\n",
      "2 Failure\n"
     ]
    }
   ],
   "source": [
    "#  Print the indices and corresponding keys of the landing_outcomes dictionary.\n",
    "for i, Booster_landing in enumerate(landing_outcomes.keys()):\n",
    "    print(i, Booster_landing)"
   ]
  },
  {
   "cell_type": "code",
   "execution_count": 30,
   "id": "3052ebc6-8b42-4949-84f4-187639b128f7",
   "metadata": {},
   "outputs": [
    {
     "data": {
      "text/plain": [
       "{'Failure', 'No attempt\\n'}"
      ]
     },
     "execution_count": 30,
     "metadata": {},
     "output_type": "execute_result"
    }
   ],
   "source": [
    "bad_outcomes=set(landing_outcomes.keys()[[1,2]])\n",
    "bad_outcomes"
   ]
  },
  {
   "cell_type": "code",
   "execution_count": 31,
   "id": "82f1fd15-38d4-4d90-9ce4-d2545a0d5f0c",
   "metadata": {},
   "outputs": [],
   "source": [
    "#Let's convert the target categorical variable into a binary format.\n",
    "# landing_class = 0 if bad_outcome\n",
    "# landing_class = 1 otherwise\n",
    "\n",
    "landing_class = []\n",
    "for Booster_landing in df['Booster_landing']:\n",
    "    if Booster_landing in bad_outcomes:\n",
    "        landing_class.append(0)\n",
    "    else:\n",
    "        landing_class.append(1)"
   ]
  },
  {
   "cell_type": "code",
   "execution_count": 32,
   "id": "d6ee8f19-3479-4c46-bba3-8751bafbf1c6",
   "metadata": {},
   "outputs": [
    {
     "data": {
      "text/html": [
       "<div>\n",
       "<style scoped>\n",
       "    .dataframe tbody tr th:only-of-type {\n",
       "        vertical-align: middle;\n",
       "    }\n",
       "\n",
       "    .dataframe tbody tr th {\n",
       "        vertical-align: top;\n",
       "    }\n",
       "\n",
       "    .dataframe thead th {\n",
       "        text-align: right;\n",
       "    }\n",
       "</style>\n",
       "<table border=\"1\" class=\"dataframe\">\n",
       "  <thead>\n",
       "    <tr style=\"text-align: right;\">\n",
       "      <th></th>\n",
       "      <th>Class</th>\n",
       "    </tr>\n",
       "  </thead>\n",
       "  <tbody>\n",
       "    <tr>\n",
       "      <th>0</th>\n",
       "      <td>1</td>\n",
       "    </tr>\n",
       "    <tr>\n",
       "      <th>1</th>\n",
       "      <td>0</td>\n",
       "    </tr>\n",
       "    <tr>\n",
       "      <th>2</th>\n",
       "      <td>1</td>\n",
       "    </tr>\n",
       "    <tr>\n",
       "      <th>3</th>\n",
       "      <td>0</td>\n",
       "    </tr>\n",
       "    <tr>\n",
       "      <th>4</th>\n",
       "      <td>1</td>\n",
       "    </tr>\n",
       "    <tr>\n",
       "      <th>5</th>\n",
       "      <td>0</td>\n",
       "    </tr>\n",
       "    <tr>\n",
       "      <th>6</th>\n",
       "      <td>1</td>\n",
       "    </tr>\n",
       "    <tr>\n",
       "      <th>7</th>\n",
       "      <td>1</td>\n",
       "    </tr>\n",
       "    <tr>\n",
       "      <th>8</th>\n",
       "      <td>1</td>\n",
       "    </tr>\n",
       "    <tr>\n",
       "      <th>9</th>\n",
       "      <td>1</td>\n",
       "    </tr>\n",
       "  </tbody>\n",
       "</table>\n",
       "</div>"
      ],
      "text/plain": [
       "   Class\n",
       "0      1\n",
       "1      0\n",
       "2      1\n",
       "3      0\n",
       "4      1\n",
       "5      0\n",
       "6      1\n",
       "7      1\n",
       "8      1\n",
       "9      1"
      ]
     },
     "execution_count": 32,
     "metadata": {},
     "output_type": "execute_result"
    }
   ],
   "source": [
    "df['Class']=landing_class\n",
    "df[['Class']].head(10)"
   ]
  },
  {
   "cell_type": "code",
   "execution_count": 33,
   "id": "cfb5a7b0-a78e-4633-bd4d-ca91f7509600",
   "metadata": {},
   "outputs": [
    {
     "data": {
      "text/html": [
       "<div>\n",
       "<style scoped>\n",
       "    .dataframe tbody tr th:only-of-type {\n",
       "        vertical-align: middle;\n",
       "    }\n",
       "\n",
       "    .dataframe tbody tr th {\n",
       "        vertical-align: top;\n",
       "    }\n",
       "\n",
       "    .dataframe thead th {\n",
       "        text-align: right;\n",
       "    }\n",
       "</style>\n",
       "<table border=\"1\" class=\"dataframe\">\n",
       "  <thead>\n",
       "    <tr style=\"text-align: right;\">\n",
       "      <th></th>\n",
       "      <th>Payload</th>\n",
       "      <th>Orbit</th>\n",
       "      <th>Customer</th>\n",
       "      <th>Flight_No.</th>\n",
       "      <th>Date</th>\n",
       "      <th>Time</th>\n",
       "      <th>Version_Booster</th>\n",
       "      <th>Launch_site</th>\n",
       "      <th>Payload_mass</th>\n",
       "      <th>Launch_outcome</th>\n",
       "      <th>Booster_landing</th>\n",
       "      <th>Class</th>\n",
       "    </tr>\n",
       "  </thead>\n",
       "  <tbody>\n",
       "    <tr>\n",
       "      <th>0</th>\n",
       "      <td>Starlink</td>\n",
       "      <td>LEO</td>\n",
       "      <td>SpaceX</td>\n",
       "      <td>78</td>\n",
       "      <td>7 January 2020</td>\n",
       "      <td>02:19:21</td>\n",
       "      <td>F9 B5</td>\n",
       "      <td>CCSFS</td>\n",
       "      <td>15,600 kg</td>\n",
       "      <td>Success\\n</td>\n",
       "      <td>Success</td>\n",
       "      <td>1</td>\n",
       "    </tr>\n",
       "    <tr>\n",
       "      <th>1</th>\n",
       "      <td>Crew Dragon in-flight abort test</td>\n",
       "      <td>Sub-orbital</td>\n",
       "      <td>NASA</td>\n",
       "      <td>79</td>\n",
       "      <td>19 January 2020</td>\n",
       "      <td>15:30</td>\n",
       "      <td>F9 B5</td>\n",
       "      <td>KSC</td>\n",
       "      <td>12,050 kg</td>\n",
       "      <td>Success\\n</td>\n",
       "      <td>No attempt\\n</td>\n",
       "      <td>0</td>\n",
       "    </tr>\n",
       "    <tr>\n",
       "      <th>2</th>\n",
       "      <td>Starlink</td>\n",
       "      <td>LEO</td>\n",
       "      <td>SpaceX</td>\n",
       "      <td>80</td>\n",
       "      <td>29 January 2020</td>\n",
       "      <td>14:07</td>\n",
       "      <td>F9 B5</td>\n",
       "      <td>CCSFS</td>\n",
       "      <td>15,600 kg</td>\n",
       "      <td>Success\\n</td>\n",
       "      <td>Success</td>\n",
       "      <td>1</td>\n",
       "    </tr>\n",
       "    <tr>\n",
       "      <th>3</th>\n",
       "      <td>Starlink</td>\n",
       "      <td>LEO</td>\n",
       "      <td>SpaceX</td>\n",
       "      <td>81</td>\n",
       "      <td>17 February 2020</td>\n",
       "      <td>15:05</td>\n",
       "      <td>F9 B5</td>\n",
       "      <td>CCSFS</td>\n",
       "      <td>15,600 kg</td>\n",
       "      <td>Success\\n</td>\n",
       "      <td>Failure</td>\n",
       "      <td>0</td>\n",
       "    </tr>\n",
       "    <tr>\n",
       "      <th>4</th>\n",
       "      <td>SpaceX CRS-20</td>\n",
       "      <td>LEO</td>\n",
       "      <td>NASA</td>\n",
       "      <td>82</td>\n",
       "      <td>7 March 2020</td>\n",
       "      <td>04:50</td>\n",
       "      <td>F9 B5</td>\n",
       "      <td>CCSFS</td>\n",
       "      <td>1,977 kg</td>\n",
       "      <td>Success\\n</td>\n",
       "      <td>Success</td>\n",
       "      <td>1</td>\n",
       "    </tr>\n",
       "    <tr>\n",
       "      <th>5</th>\n",
       "      <td>Starlink</td>\n",
       "      <td>LEO</td>\n",
       "      <td>SpaceX</td>\n",
       "      <td>83</td>\n",
       "      <td>18 March 2020</td>\n",
       "      <td>12:16</td>\n",
       "      <td>F9 B5</td>\n",
       "      <td>KSC</td>\n",
       "      <td>15,600 kg</td>\n",
       "      <td>Success\\n</td>\n",
       "      <td>Failure</td>\n",
       "      <td>0</td>\n",
       "    </tr>\n",
       "    <tr>\n",
       "      <th>6</th>\n",
       "      <td>Starlink</td>\n",
       "      <td>LEO</td>\n",
       "      <td>SpaceX</td>\n",
       "      <td>84</td>\n",
       "      <td>22 April 2020</td>\n",
       "      <td>19:30</td>\n",
       "      <td>F9 B5</td>\n",
       "      <td>KSC</td>\n",
       "      <td>15,600 kg</td>\n",
       "      <td>Success\\n</td>\n",
       "      <td>Success</td>\n",
       "      <td>1</td>\n",
       "    </tr>\n",
       "    <tr>\n",
       "      <th>7</th>\n",
       "      <td>Crew Dragon Demo-2</td>\n",
       "      <td>LEO</td>\n",
       "      <td>NASA</td>\n",
       "      <td>85</td>\n",
       "      <td>30 May 2020</td>\n",
       "      <td>19:22</td>\n",
       "      <td>F9 B5B1058.1</td>\n",
       "      <td>KSC</td>\n",
       "      <td>12,530 kg</td>\n",
       "      <td>Success\\n</td>\n",
       "      <td>Success</td>\n",
       "      <td>1</td>\n",
       "    </tr>\n",
       "    <tr>\n",
       "      <th>8</th>\n",
       "      <td>Starlink</td>\n",
       "      <td>LEO</td>\n",
       "      <td>SpaceX</td>\n",
       "      <td>86</td>\n",
       "      <td>4 June 2020</td>\n",
       "      <td>01:25</td>\n",
       "      <td>F9 B5</td>\n",
       "      <td>CCSFS</td>\n",
       "      <td>15,600 kg</td>\n",
       "      <td>Success\\n</td>\n",
       "      <td>Success</td>\n",
       "      <td>1</td>\n",
       "    </tr>\n",
       "    <tr>\n",
       "      <th>9</th>\n",
       "      <td>Starlink</td>\n",
       "      <td>LEO</td>\n",
       "      <td>SpaceX</td>\n",
       "      <td>87</td>\n",
       "      <td>13 June 2020</td>\n",
       "      <td>09:21</td>\n",
       "      <td>F9 B5</td>\n",
       "      <td>CCSFS</td>\n",
       "      <td>15,410 kg</td>\n",
       "      <td>Success\\n</td>\n",
       "      <td>Success</td>\n",
       "      <td>1</td>\n",
       "    </tr>\n",
       "  </tbody>\n",
       "</table>\n",
       "</div>"
      ],
      "text/plain": [
       "                            Payload        Orbit Customer  Flight_No.  \\\n",
       "0                          Starlink          LEO   SpaceX          78   \n",
       "1  Crew Dragon in-flight abort test  Sub-orbital     NASA          79   \n",
       "2                          Starlink          LEO   SpaceX          80   \n",
       "3                          Starlink          LEO   SpaceX          81   \n",
       "4                     SpaceX CRS-20          LEO     NASA          82   \n",
       "5                          Starlink          LEO   SpaceX          83   \n",
       "6                          Starlink          LEO   SpaceX          84   \n",
       "7                Crew Dragon Demo-2          LEO     NASA          85   \n",
       "8                          Starlink          LEO   SpaceX          86   \n",
       "9                          Starlink          LEO   SpaceX          87   \n",
       "\n",
       "               Date      Time Version_Booster Launch_site Payload_mass  \\\n",
       "0    7 January 2020  02:19:21           F9 B5       CCSFS    15,600 kg   \n",
       "1   19 January 2020     15:30           F9 B5         KSC    12,050 kg   \n",
       "2   29 January 2020     14:07           F9 B5       CCSFS    15,600 kg   \n",
       "3  17 February 2020     15:05           F9 B5       CCSFS    15,600 kg   \n",
       "4      7 March 2020     04:50           F9 B5       CCSFS     1,977 kg   \n",
       "5     18 March 2020     12:16           F9 B5         KSC    15,600 kg   \n",
       "6     22 April 2020     19:30           F9 B5         KSC    15,600 kg   \n",
       "7       30 May 2020     19:22    F9 B5B1058.1         KSC    12,530 kg   \n",
       "8       4 June 2020     01:25           F9 B5       CCSFS    15,600 kg   \n",
       "9      13 June 2020     09:21           F9 B5       CCSFS    15,410 kg   \n",
       "\n",
       "  Launch_outcome Booster_landing  Class  \n",
       "0      Success\\n         Success      1  \n",
       "1      Success\\n    No attempt\\n      0  \n",
       "2      Success\\n         Success      1  \n",
       "3      Success\\n         Failure      0  \n",
       "4      Success\\n         Success      1  \n",
       "5      Success\\n         Failure      0  \n",
       "6      Success\\n         Success      1  \n",
       "7      Success\\n         Success      1  \n",
       "8      Success\\n         Success      1  \n",
       "9      Success\\n         Success      1  "
      ]
     },
     "execution_count": 33,
     "metadata": {},
     "output_type": "execute_result"
    }
   ],
   "source": [
    "df.head(10)"
   ]
  },
  {
   "cell_type": "code",
   "execution_count": 34,
   "id": "a01dc79e-ca27-463b-8140-ac6ca7130ffe",
   "metadata": {},
   "outputs": [
    {
     "data": {
      "text/plain": [
       "0.9720930232558139"
      ]
     },
     "execution_count": 34,
     "metadata": {},
     "output_type": "execute_result"
    }
   ],
   "source": [
    "df[\"Class\"].mean()"
   ]
  },
  {
   "cell_type": "code",
   "execution_count": 35,
   "id": "9892aa5f-6bbb-4dd6-8df1-c49dbf05fdc7",
   "metadata": {},
   "outputs": [],
   "source": [
    "df.to_csv(\"spacex_web_scraped_2024.csv\", index=False)"
   ]
  },
  {
   "cell_type": "code",
   "execution_count": 36,
   "id": "de753522-8738-43a2-87bf-f891a3bb440b",
   "metadata": {},
   "outputs": [],
   "source": [
    "df.to_csv(\"D:/Download/spacex_web_scraped_2024.csv\", index=False)"
   ]
  },
  {
   "cell_type": "code",
   "execution_count": null,
   "id": "061e56e4-337d-4290-941e-ef7f0a60f723",
   "metadata": {},
   "outputs": [],
   "source": []
  }
 ],
 "metadata": {
  "kernelspec": {
   "display_name": "Python 3 (ipykernel)",
   "language": "python",
   "name": "python3"
  },
  "language_info": {
   "codemirror_mode": {
    "name": "ipython",
    "version": 3
   },
   "file_extension": ".py",
   "mimetype": "text/x-python",
   "name": "python",
   "nbconvert_exporter": "python",
   "pygments_lexer": "ipython3",
   "version": "3.11.5"
  }
 },
 "nbformat": 4,
 "nbformat_minor": 5
}
